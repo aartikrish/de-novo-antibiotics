{
 "cells": [
  {
   "cell_type": "markdown",
   "metadata": {},
   "source": [
    "# Downselection Pipelines \n",
    "\n",
    "Throughout the paper we have used various funnels that consist of a combination of the following filters and respective thresholds. How to obtain the respective scores needed for the filtering steps is explained in the README to this GitHub. \n",
    "\n",
    "* Antibiotic activity based on Chemprop scores (Staph. aureus, N. gonorrhoeae): ```ACTIVITY_THRESHOLD```\n",
    "* Cytotoxicity based on Chemprop scores (IMR90, HSkMC, HepG2): ```TOXICITY_THRESHOLD```\n",
    "* PAINS and Brenk filters (binary, no threshold needed)\n",
    "* Tanimoto similarity to 559 known antibiotics: ```TANSIM_THRESHOLD```\n",
    "* Retrosynthetic accessbility (SA or RA) score: ```SA_RA_THRESHOLD```"
   ]
  },
  {
   "cell_type": "code",
   "execution_count": null,
   "metadata": {},
   "outputs": [],
   "source": [
    "# Example values \n",
    "ACTIVITY_THRESHOLD = 0.1 \n",
    "TOX_THRESHOLD = 0.8\n",
    "TANSIM_THRESHOLD = 0.2\n",
    "RA_THRESHOLD = 0.2\n",
    "\n",
    "# Fix the name of the SMILES column \n",
    "SMILES_COL = \"SMILES\""
   ]
  },
  {
   "cell_type": "code",
   "execution_count": null,
   "metadata": {},
   "outputs": [],
   "source": [
    "import pandas as pd\n",
    "\n",
    "smiles_df = pd.read_csv(\"/path/to/molecules_to_be_downselected.csv\")\n",
    "\n",
    "print(f\"The original file has {len(smiles_df)} molecules.\")"
   ]
  },
  {
   "cell_type": "markdown",
   "metadata": {},
   "source": [
    "### 1) Filtering for Antibiotic Activity  "
   ]
  },
  {
   "cell_type": "code",
   "execution_count": null,
   "metadata": {},
   "outputs": [],
   "source": [
    "ACTIVITY_COL = \"ACTIVITY_COLUMN\"\n",
    "\n",
    "len_before = len(smiles_df)\n",
    "smiles_df = smiles_df[smiles_df[ACTIVITY_COL] > ACTIVITY_THRESHOLD]\n",
    "len_after = len(smiles_df)\n",
    "\n",
    "print(f\"removed: {len_before - len_after} molecules with activity below {ACTIVITY_THRESHOLD}\")\n",
    "print(f\"remaining: {len_after} molecules\")"
   ]
  },
  {
   "cell_type": "markdown",
   "metadata": {},
   "source": [
    "### 2) Filter for Toxicitiy "
   ]
  },
  {
   "cell_type": "code",
   "execution_count": null,
   "metadata": {},
   "outputs": [],
   "source": [
    "TOX_COL = \"TOXICITY_COLUMN\"\n",
    "\n",
    "len_before = len(smiles_df)\n",
    "smiles_df = smiles_df[smiles_df[TOX_COL] < TOX_THRESHOLD]\n",
    "len_after = len(smiles_df)\n",
    "\n",
    "print(f\"removed: {len_before - len_after} molecules with toxicity above {TOX_THRESHOLD}\")\n",
    "print(f\"remaining: {len_after} molecules\")"
   ]
  },
  {
   "cell_type": "markdown",
   "metadata": {},
   "source": [
    "### 3) PAINS and Brenk"
   ]
  },
  {
   "cell_type": "code",
   "execution_count": null,
   "metadata": {},
   "outputs": [],
   "source": [
    "import pandas as pd\n",
    "from rdkit import Chem\n",
    "from rdkit.Chem import FilterCatalog\n",
    "from rdkit.Chem.FilterCatalog import FilterCatalogParams\n",
    "\n",
    "# Load your DataFrame (assuming SMILES are in the first column)\n",
    "\n",
    "# Initialize PAINS filters (PAINS A, B, and C)\n",
    "pains_params = FilterCatalogParams()\n",
    "pains_params.AddCatalog(FilterCatalogParams.FilterCatalogs.PAINS) # just use .PAINS\n",
    "pains_catalog = FilterCatalog.FilterCatalog(pains_params)\n",
    "\n",
    "# Initialize Brenk alerts using RDKit's built-in Brenk filter catalog\n",
    "brenk_params = FilterCatalogParams()\n",
    "brenk_params.AddCatalog(FilterCatalogParams.FilterCatalogs.BRENK)\n",
    "brenk_catalog = FilterCatalog.FilterCatalog(brenk_params)\n",
    "\n",
    "def check_pains(smile):\n",
    "    mol = Chem.MolFromSmiles(smile)\n",
    "    if mol is None:\n",
    "        return 0\n",
    "    return 1 if pains_catalog.HasMatch(mol) else 0\n",
    "\n",
    "def check_brenk(smile):\n",
    "    mol = Chem.MolFromSmiles(smile)\n",
    "    if mol is None:\n",
    "        return 0\n",
    "    return 1 if brenk_catalog.HasMatch(mol) else 0\n",
    "\n",
    "# Apply the functions to compute the flags (assumes SMILES are in the first column)\n",
    "smiles_df[\"has_PAINS\"] = smiles_df.iloc[\"SMILES\"].apply(check_pains)\n",
    "smiles_df[\"has_Brenk\"] = smiles_df.iloc[\"SMILES\"].apply(check_brenk)\n",
    "\n",
    "len_before = len(smiles_df)\n",
    "smiles_df = smiles_df[smiles_df[\"has_PAINS\"] == 0]\n",
    "smiles_df = smiles_df[smiles_df[\"has_Brenk\"] == 0]\n",
    "len_after = len(smiles_df)\n",
    "\n",
    "print(f\"removed: {len_before - len_after} molecules with PAINS or Brenk alerts\")\n",
    "print(f\"remaining: {len_after} molecules\")"
   ]
  },
  {
   "cell_type": "markdown",
   "metadata": {},
   "source": [
    "### 4) Tanimoto Similarity to Known Antibiotics"
   ]
  },
  {
   "cell_type": "code",
   "execution_count": null,
   "metadata": {},
   "outputs": [],
   "source": [
    "import pandas as pd\n",
    "from rdkit import Chem, DataStructs\n",
    "from rdkit.Chem import AllChem\n",
    "\n",
    "# Read the known antibiotics from CSV\n",
    "known_abx = pd.read_csv(\"559_known_abx.csv\")\n",
    "\n",
    "# Function to compute a Morgan fingerprint for a given SMILES string.\n",
    "def get_fingerprint(smile, radius=2, nBits=2048):\n",
    "    mol = Chem.MolFromSmiles(smile)\n",
    "    if mol:\n",
    "        return AllChem.GetMorganFingerprintAsBitVect(mol, radius, nBits)\n",
    "    else:\n",
    "        return None\n",
    "\n",
    "# Compute fingerprints for molecules in known_abx using the defined SMILES column (update column if needed)\n",
    "known_abx['fp'] = known_abx[SMILES_COL].apply(get_fingerprint)\n",
    "known_fps = list(known_abx['fp'].dropna())\n",
    "\n",
    "# Compute fingerprints for the molecules in smiles_df\n",
    "smiles_df['fp'] = smiles_df[SMILES_COL].apply(get_fingerprint)\n",
    "\n",
    "# Function to compute the maximum Tanimoto similarity between a molecule and the list of known fingerprints\n",
    "def max_tanimoto(fp, known_fps):\n",
    "    if fp is None:\n",
    "        return 0.0\n",
    "    sims = DataStructs.BulkTanimotoSimilarity(fp, known_fps)\n",
    "    return max(sims) if sims else 0.0\n",
    "\n",
    "# Add a new column 'TanSim' that holds the max Tanimoto similarity value for each molecule\n",
    "smiles_df['TanSim'] = smiles_df['fp'].apply(lambda fp: max_tanimoto(fp, known_fps))\n",
    "\n",
    "# Filter the DataFrame to include only molecules meeting the Tanimoto similarity threshold\n",
    "len_before = len(smiles_df)\n",
    "smiles_df = smiles_df[smiles_df['TanSim'] < TANSIM_THRESHOLD]\n",
    "len_after = len(smiles_df)\n",
    "\n",
    "print(f\"removed: {len_before - len_after} molecules that did not meet TANSIM_THRESHOLD\")\n",
    "print(f\"remaining: {len(len_after)} molecules similar to known_abx\")"
   ]
  },
  {
   "cell_type": "markdown",
   "metadata": {},
   "source": [
    "### 5) Filter by SA or RA Score"
   ]
  },
  {
   "cell_type": "code",
   "execution_count": null,
   "metadata": {},
   "outputs": [],
   "source": [
    "import pandas as pd\n",
    "import rdkit\n",
    "from rdkit import RDLogger\n",
    "import sascorer\n",
    "\n",
    "# Suppress RDKit warnings\n",
    "RDLogger.DisableLog(\"rdApp.*\")\n",
    "\n",
    "# Compute SA scores\n",
    "sascores = [sascorer.calculateScore(mol) for mol in mols]\n",
    "\n",
    "\n",
    "import pandas as pd\n",
    "import rdkit\n",
    "from rdkit import RDLogger\n",
    "from RAscore import RAscore_XGB  # This should now be found if the package structure is correct\n",
    "\n",
    "# Suppress RDKit warnings\n",
    "RDLogger.DisableLog(\"rdApp.*\")\n",
    "\n",
    "# Load the XGBoost model trained on GDB\n",
    "xgb_scorer = RAscore_XGB.RAScorerXGB()\n",
    "\n",
    "len_before = len(smiles_df)\n",
    "smiles_df[\"RA_score\"] = smiles_df[\"SMILES\"].apply(lambda x: xgb_scorer.predict(x))\n",
    "len_after = len(smiles_df)\n",
    "\n",
    "print(f\"removed: {len_before - len_after} molecules with PAINS or Brenk alerts\")\n",
    "print(f\"remaining: {len_after} molecules\")"
   ]
  },
  {
   "cell_type": "markdown",
   "metadata": {},
   "source": [
    "## Save resulting dataframe"
   ]
  },
  {
   "cell_type": "code",
   "execution_count": null,
   "metadata": {},
   "outputs": [],
   "source": [
    "# define place to save file\n",
    "output_path = \"path/to/save/file\"\n",
    "\n",
    "smiles_df.to_csv(output_path, index=False)\n",
    "print(f'Saved the downselected list of {len(smiles_df)} molecules.')"
   ]
  },
  {
   "cell_type": "code",
   "execution_count": null,
   "metadata": {},
   "outputs": [],
   "source": []
  }
 ],
 "metadata": {
  "kernelspec": {
   "display_name": "minimol",
   "language": "python",
   "name": "python3"
  },
  "language_info": {
   "codemirror_mode": {
    "name": "ipython",
    "version": 3
   },
   "file_extension": ".py",
   "mimetype": "text/x-python",
   "name": "python",
   "nbconvert_exporter": "python",
   "pygments_lexer": "ipython3",
   "version": "3.10.13"
  }
 },
 "nbformat": 4,
 "nbformat_minor": 2
}
